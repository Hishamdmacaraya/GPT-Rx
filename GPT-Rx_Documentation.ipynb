{
 "cells": [
  {
   "cell_type": "markdown",
   "metadata": {},
   "source": [
    "# GPT-Rx: AI-Powered Medicine Description Checker\n",
    "\n",
    "![alt text](GPT-Rx_Logo.jpg)\n",
    "\n",
    "## Abstract\n",
    "\n",
    "GPT-Rx is an AI-driven tool that leverages the GPT-Neo 2.7B model to generate concise, detailed descriptions of medicines based on their generic names. The system provides users with insights into the primary uses, dosage recommendations, and potential side effects of medications. Designed for educational and demonstrative purposes, GPT-Rx showcases the potential of large language models in enhancing healthcare information accessibility while also highlighting limitations that must be addressed before clinical application.\n",
    "\n",
    "## Introduction\n",
    "\n",
    "Advances in natural language processing (NLP) have paved the way for innovative applications in healthcare. One emerging area is the automated generation of medicine descriptions that can aid patients and healthcare professionals alike. GPT-Rx is developed to address the need for accessible, on-demand pharmaceutical information. By leveraging a free, advanced model—GPT-Neo 2.7B—GPT-Rx demonstrates how prompt engineering can be utilized to provide informative, concise medication overviews. While not intended to replace professional advice, this tool serves as a proof-of-concept for AI-driven medical information systems.\n",
    "\n",
    "## Methodology\n",
    "\n",
    "### 1. Model Selection\n",
    "GPT-Rx employs GPT-Neo 2.7B, a transformer-based language model available from EleutherAI. Compared to earlier models such as GPT-2, GPT-Neo offers improved language understanding and generation capabilities while remaining free to use.\n",
    "\n",
    "### 2. Prompt Engineering\n",
    "The system constructs a specific prompt that instructs the model to generate a detailed medicine description. The prompt includes instructions to cover the medicine’s generic name, primary uses, dosage recommendations, and potential side effects in a concise manner. This approach enables the model to produce focused and relevant outputs.\n",
    "\n",
    "### 3. System Architecture\n",
    "The application is implemented as a terminal-based Python script:\n",
    "\n",
    "a. **Model Setup:** Loading GPT-Neo 2.7B and its corresponding tokenizer.\n",
    "\n",
    "b. **Functionality:** A core function (get_medicine_description) encodes the prompt, invokes the model for generation, and processes the output by stripping away the prompt text.\n",
    "\n",
    "c. **User Interface:** A command-line interface (CLI) prompts the user for input and displays the generated description."
   ]
  },
  {
   "cell_type": "markdown",
   "metadata": {},
   "source": [
    "## Implementation\n",
    "The code is structured as follows:"
   ]
  },
  {
   "cell_type": "code",
   "execution_count": 2,
   "metadata": {},
   "outputs": [
    {
     "name": "stdout",
     "output_type": "stream",
     "text": [
      "GPT-Rx: AI Medicine Description Checker\n"
     ]
    },
    {
     "name": "stderr",
     "output_type": "stream",
     "text": [
      "The attention mask and the pad token id were not set. As a consequence, you may observe unexpected behavior. Please pass your input's `attention_mask` to obtain reliable results.\n",
      "Setting `pad_token_id` to `eos_token_id`:None for open-end generation.\n"
     ]
    },
    {
     "name": "stdout",
     "output_type": "stream",
     "text": [
      "\n",
      "Medicine Description:\n",
      "Lisinoprile is a medication used to treat high blood pressure. It is used in combination with other medications to lower blood pressures. Lisinopenile is an angiotensin-converting enzyme inhibitor. Angiotension- converting enzyme inhibitors are used for high cholesterol, high triglycerides, or high low-density lipoprotein (LDL) cholesterol. They are also used as a treatment for heart failure. This medicine is also prescribed to prevent heart attacks. The medicine may also be used with a beta-blocker to reduce the risk of heart\n",
      "\n",
      "Disclaimer: This tool is for educational purposes only and is not a substitute for professional medical advice.\n"
     ]
    }
   ],
   "source": [
    "import sys  # Provides access to system-specific functions, including program termination.\n",
    "from transformers import GPTNeoForCausalLM, GPT2Tokenizer  # Imports the model and tokenizer for GPT-Neo from the transformers library.\n",
    "import torch  # Required for tensor operations utilized by PyTorch and the model.\n",
    "\n",
    "# -------------------------------------------------------------------------------\n",
    "# Model Setup: Load GPT-Neo 2.7B\n",
    "# -------------------------------------------------------------------------------\n",
    "model_name = \"EleutherAI/gpt-neo-2.7B\"  # Specifies the pre-trained model to be used.\n",
    "# Load the tokenizer corresponding to GPT-Neo 2.7B. The tokenizer converts text into tokens.\n",
    "tokenizer = GPT2Tokenizer.from_pretrained(model_name)\n",
    "# Load the GPT-Neo model for causal language modeling (text generation).\n",
    "model = GPTNeoForCausalLM.from_pretrained(model_name)\n",
    "\n",
    "# -------------------------------------------------------------------------------\n",
    "# Function: get_medicine_description\n",
    "# Generates a detailed description of a medicine using the GPT-Neo model.\n",
    "# -------------------------------------------------------------------------------\n",
    "def get_medicine_description(medicine_name):\n",
    "    # Construct the prompt string with instructions for generating a detailed medicine description.\n",
    "    prompt = (\n",
    "        f\"Provide a detailed description for the medicine '{medicine_name}', \"\n",
    "        \"including its generic name, primary uses, dosage recommendations, \"\n",
    "        \"and potential side effects. Answer concisely.\"\n",
    "    )\n",
    "    \n",
    "    # Convert the prompt into input tokens that the model can process.\n",
    "    inputs = tokenizer.encode(prompt, return_tensors=\"pt\")\n",
    "    \n",
    "    # Generate a response from the model using the given input tokens.\n",
    "    # Parameters:\n",
    "    #   max_length: Limits the overall length of the generated tokens.\n",
    "    #   num_return_sequences: Specifies the number of generated responses.\n",
    "    #   no_repeat_ngram_size: Prevents repetition of n-grams in the generated text.\n",
    "    #   early_stopping: Stops generation when the model satisfies stopping criteria.\n",
    "    outputs = model.generate(\n",
    "        inputs,\n",
    "        max_length=150,\n",
    "        num_return_sequences=1,\n",
    "        no_repeat_ngram_size=2,\n",
    "        early_stopping=True\n",
    "    )\n",
    "    \n",
    "    # Decode the output tokens back into a human-readable string.\n",
    "    generated_text = tokenizer.decode(outputs[0], skip_special_tokens=True)\n",
    "    \n",
    "    # Remove the original prompt from the generated text, leaving only the description.\n",
    "    description = generated_text[len(prompt):].strip()\n",
    "    \n",
    "    return description\n",
    "\n",
    "# -------------------------------------------------------------------------------\n",
    "# Main function: Runs the application.\n",
    "# -------------------------------------------------------------------------------\n",
    "def main():\n",
    "    # Display the initial tool header.\n",
    "    print(\"GPT-Rx: AI Medicine Description Checker\")\n",
    "    \n",
    "    # Prompt the user to input the generic medicine name.\n",
    "    medicine_name = input(\"Enter the generic name of the medicine: \").strip()\n",
    "    \n",
    "    # Check if the user provided any input; if not, exit the program with an error message.\n",
    "    if not medicine_name:\n",
    "        print(\"Error: No medicine name provided. Exiting...\")\n",
    "        sys.exit(1)\n",
    "    \n",
    "    # Generate the medicine description by calling the defined function.\n",
    "    description = get_medicine_description(medicine_name)\n",
    "    \n",
    "    # Print the generated medicine description.\n",
    "    print(\"\\nMedicine Description:\")\n",
    "    print(description)\n",
    "    \n",
    "    # Display a disclaimer that the tool is for educational purposes only.\n",
    "    print(\"\\nDisclaimer: This tool is for educational purposes only and is not a substitute for professional medical advice.\")\n",
    "\n",
    "# Ensure that the main function is executed only if the script is run directly (not imported).\n",
    "if __name__ == \"__main__\":\n",
    "    main()"
   ]
  },
  {
   "cell_type": "markdown",
   "metadata": {},
   "source": [
    "This code provides the backbone for the GPT-Rx project, detailing model setup, prompt processing, and user interaction."
   ]
  },
  {
   "cell_type": "markdown",
   "metadata": {},
   "source": [
    "## Results\n",
    "A sample run of GPT-Rx might involve entering a medicine name (e.g., “lisinopril”) and receiving an output description summarizing its uses, dosage guidelines, and side effects. The output demonstrates the model’s ability to generate coherent and contextually relevant pharmaceutical information based solely on textual input.\n",
    "\n",
    "## Discussion\n",
    "While GPT-Rx successfully illustrates the potential of large language models in healthcare applications, several challenges remain:\n",
    "\n",
    "a. **Accuracy:** The model’s output is dependent on its training data and prompt quality; inaccuracies can occur.\n",
    "\n",
    "b. **Validation:** Generated content should be cross-referenced with authoritative medical sources.\n",
    "\n",
    "c. **Ethical Considerations:** Users must be cautioned that the tool is for educational use and not a replacement for professional advice.\n",
    "\n",
    "d. **Performance:** Running large models like GPT-Neo 2.7B requires significant computational resources, which may limit deployment in resource-constrained environments.\n",
    "\n",
    "Future improvements include integrating a medically fine-tuned model, enhancing output parsing, and developing a graphical user interface for broader accessibility.\n",
    "\n",
    "## Conclusion\n",
    "GPT-Rx serves as a demonstrative application of leveraging state-of-the-art NLP models for generating medicine descriptions. By combining prompt engineering with a powerful language model, the project underscores the potential and challenges of AI in healthcare. Although GPT-Rx is not intended for clinical decision-making, it provides a foundation for further research into AI-driven medical information systems.\n",
    "\n",
    "## References\n",
    "Due to the nature of this project as an educational demonstration, references to specific datasets or additional literature have been omitted. For further reading, consider reviewing literature on GPT-Neo, NLP in healthcare, and prompt engineering methodologies.\n",
    "\n"
   ]
  }
 ],
 "metadata": {
  "kernelspec": {
   "display_name": "Python 3",
   "language": "python",
   "name": "python3"
  },
  "language_info": {
   "codemirror_mode": {
    "name": "ipython",
    "version": 3
   },
   "file_extension": ".py",
   "mimetype": "text/x-python",
   "name": "python",
   "nbconvert_exporter": "python",
   "pygments_lexer": "ipython3",
   "version": "3.11.9"
  }
 },
 "nbformat": 4,
 "nbformat_minor": 4
}
